{
  "cells": [
    {
      "cell_type": "code",
      "execution_count": null,
      "metadata": {
        "id": "erU1p0TIiOfk"
      },
      "outputs": [],
      "source": [
        "import numpy as np\n",
        "import pandas as pd\n",
        "import seaborn as sns\n",
        "import matplotlib.pyplot as plt\n",
        "import os\n",
        "from tensorflow.keras.layers import Dense, Flatten\n",
        "from tensorflow.keras.models import Model\n",
        "from tensorflow.keras.optimizers import Adam\n",
        "from tensorflow.keras.callbacks import EarlyStopping, ModelCheckpoint\n",
        "from tensorflow.keras.applications import ResNet50\n",
        "from tqdm import tqdm\n",
        "from sklearn.model_selection import train_test_split\n",
        "import cv2\n",
        "import shutil\n",
        "import time\n",
        "from sklearn.metrics import classification_report"
      ]
    },
    {
      "cell_type": "code",
      "execution_count": null,
      "metadata": {},
      "outputs": [],
      "source": [
        "from google.colab import drive\n",
        "drive.mount('/content/drive')"
      ]
    },
    {
      "cell_type": "code",
      "execution_count": null,
      "metadata": {},
      "outputs": [],
      "source": [
        "# Path dataset\n",
        "train_csv = \"/content/drive/MyDrive/dataset/Training_set.csv\"\n",
        "train_folder = \"/content/drive/MyDrive/dataset/train\"\n",
        "\n",
        "test_csv = \"/content/drive/MyDrive/dataset/Testing_set.csv\"\n",
        "test_folder = \"/content/drive/MyDrive/dataset/test\""
      ]
    },
    {
      "cell_type": "code",
      "execution_count": null,
      "metadata": {},
      "outputs": [],
      "source": [
        "train_df = pd.read_csv(train_csv)\n",
        "test_df = pd.read_csv(test_csv)"
      ]
    },
    {
      "cell_type": "code",
      "execution_count": null,
      "metadata": {},
      "outputs": [],
      "source": [
        "plt.figure(figsize=(14, 6))\n",
        "train_df['label'].value_counts().plot(kind='bar')\n",
        "plt.xlabel('Categories')\n",
        "plt.ylabel('Image count')\n",
        "plt.xticks(rotation=90)\n",
        "plt.tight_layout()\n",
        "plt.show()"
      ]
    },
    {
      "cell_type": "code",
      "execution_count": null,
      "metadata": {},
      "outputs": [],
      "source": [
        "## Hyperparameter\n",
        "image_size = (150, 150)\n",
        "batch_size = 32\n",
        "epochs = 15\n",
        "learning_rate = 0.0001\n",
        "\n",
        "\n",
        "class_name = list(set(train_df['label']))\n",
        "print(class_name)"
      ]
    },
    {
      "cell_type": "code",
      "execution_count": null,
      "metadata": {},
      "outputs": [],
      "source": [
        "features = []\n",
        "labels = []\n",
        "\n",
        "for img in tqdm(os.listdir(train_folder), desc=\"Preprocess Image\") :\n",
        "    label_name = train_df.loc[train_df['filename'] == img , 'label'].values[0]\n",
        "    label = class_name.index(label_name)\n",
        "    img_read = cv2.imread(os.path.join(train_folder, img))\n",
        "    img_resized = cv2.resize(img_read, image_size)\n",
        "    img_normalized = img_resized / 255.0\n",
        "    features.append(img_normalized)\n",
        "    labels.append(label)"
      ]
    },
    {
      "cell_type": "code",
      "execution_count": null,
      "metadata": {},
      "outputs": [],
      "source": [
        "features = np.asarray(features)\n",
        "labels = np.asarray(labels)"
      ]
    },
    {
      "cell_type": "code",
      "execution_count": null,
      "metadata": {},
      "outputs": [],
      "source": [
        "X_train, X_test, y_train, y_test = train_test_split(features, labels, test_size=0.3, shuffle=True, random_state=42)\n",
        "X_valid, X_test, y_valid, y_test = train_test_split(X_test, y_test, test_size=0.5, shuffle=True, random_state=42)"
      ]
    },
    {
      "cell_type": "code",
      "execution_count": null,
      "metadata": {},
      "outputs": [],
      "source": [
        "base_model = ResNet50(\n",
        "    weights='imagenet',\n",
        "    include_top=False,\n",
        "    input_shape=(image_size[0], image_size[1], 3),\n",
        ")\n",
        "\n",
        "num_layers_to_train = int(np.ceil(0.2 * len(base_model.layers)))\n",
        "\n",
        "for layer in base_model.layers[:num_layers_to_train] :\n",
        "    layer.trainable = False\n",
        "\n",
        "x = base_model.output\n",
        "x = Flatten()(x)\n",
        "x = Dense(256, activation='relu', kernel_regularizer='l2')(x)\n",
        "predictions = Dense(75, activation='softmax')(x)\n",
        "\n",
        "model = Model(inputs=base_model.input, outputs=predictions)"
      ]
    }
  ],
  "metadata": {
    "colab": {
      "provenance": []
    },
    "kernelspec": {
      "display_name": "Python 3",
      "name": "python3"
    },
    "language_info": {
      "name": "python"
    }
  },
  "nbformat": 4,
  "nbformat_minor": 0
}
